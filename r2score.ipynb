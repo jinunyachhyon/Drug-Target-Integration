{
  "nbformat": 4,
  "nbformat_minor": 0,
  "metadata": {
    "colab": {
      "provenance": []
    },
    "kernelspec": {
      "name": "python3",
      "display_name": "Python 3"
    },
    "language_info": {
      "name": "python"
    }
  },
  "cells": [
    {
      "cell_type": "code",
      "execution_count": 1,
      "metadata": {
        "id": "WAgHD--DKmG2"
      },
      "outputs": [],
      "source": [
        "import pandas as pd\n",
        "test = pd.read_csv(\"test_df.csv\")"
      ]
    },
    {
      "cell_type": "code",
      "source": [
        "test.shape"
      ],
      "metadata": {
        "colab": {
          "base_uri": "https://localhost:8080/"
        },
        "id": "jwtFqx2LPXo1",
        "outputId": "8b729812-53cc-4b93-c2d8-c2df46b7cfb4"
      },
      "execution_count": 2,
      "outputs": [
        {
          "output_type": "execute_result",
          "data": {
            "text/plain": [
              "(66, 7)"
            ]
          },
          "metadata": {},
          "execution_count": 2
        }
      ]
    },
    {
      "cell_type": "code",
      "source": [
        "test.head(5)"
      ],
      "metadata": {
        "colab": {
          "base_uri": "https://localhost:8080/",
          "height": 206
        },
        "id": "xKIfBCt7Q649",
        "outputId": "e5fb4631-4363-450c-f381-c80bd7e9cc68"
      },
      "execution_count": 3,
      "outputs": [
        {
          "output_type": "execute_result",
          "data": {
            "text/plain": [
              "   Unnamed: 0  Unnamed: 0.1     Drug_ID  \\\n",
              "0           1             1  24889392.0   \n",
              "1           2             2    153999.0   \n",
              "2           5             6  11676971.0   \n",
              "3           6             8  91898531.0   \n",
              "4           7             9  11712649.0   \n",
              "\n",
              "                                                Drug Target_ID  \\\n",
              "0  CC(C)(C)c1cc(NC(=O)Nc2ccc(-c3cn4c(n3)sc3cc(OCC...    O14733   \n",
              "1  CN(C)C[C@@H]1CCn2cc(c3ccccc32)C2=C(C(=O)NC2=O)...    P33981   \n",
              "2  CN(C)CC(=O)N1CCC(c2ccc(NC(=O)c3ncc(C#N)[nH]3)c...    Q02156   \n",
              "3  CC(C)=CCC/C(C)=C/C[C@@]12C[C@H](CC=C(C)C)C(C)(...    P42224   \n",
              "4  O=C(O)c1ccc(Nc2ncc3c(n2)-c2ccc(Cl)cc2C(c2c(F)c...    Q9BRS2   \n",
              "\n",
              "                                              Target      Y  \n",
              "0  MAASSLEQKLSRLEAKLKQENREARRRIDLNLDISPQRPRPTLQLP...  1.000  \n",
              "1  MESEDLSGRELTIDSIMNKVRDIKNKFKNEDLTDELSLNKISADTT...  1.000  \n",
              "2  MVVFNGLLKIKICEAVSLKPTAWSLRHAVGPRPQTFLLDPYIALNV...  1.000  \n",
              "3  MSQWYELQQLDSKFLEQVHQLYDDSFPMEIRQYLAQWLEKQDWEHA...  0.467  \n",
              "4  MDYRRLLMSRVVPGQFDDADSSDSENRDLKTVKEKDDILFEDLQDN...  1.000  "
            ],
            "text/html": [
              "\n",
              "  <div id=\"df-c46894f5-d6d2-4e84-a0b1-3dcd8e347404\">\n",
              "    <div class=\"colab-df-container\">\n",
              "      <div>\n",
              "<style scoped>\n",
              "    .dataframe tbody tr th:only-of-type {\n",
              "        vertical-align: middle;\n",
              "    }\n",
              "\n",
              "    .dataframe tbody tr th {\n",
              "        vertical-align: top;\n",
              "    }\n",
              "\n",
              "    .dataframe thead th {\n",
              "        text-align: right;\n",
              "    }\n",
              "</style>\n",
              "<table border=\"1\" class=\"dataframe\">\n",
              "  <thead>\n",
              "    <tr style=\"text-align: right;\">\n",
              "      <th></th>\n",
              "      <th>Unnamed: 0</th>\n",
              "      <th>Unnamed: 0.1</th>\n",
              "      <th>Drug_ID</th>\n",
              "      <th>Drug</th>\n",
              "      <th>Target_ID</th>\n",
              "      <th>Target</th>\n",
              "      <th>Y</th>\n",
              "    </tr>\n",
              "  </thead>\n",
              "  <tbody>\n",
              "    <tr>\n",
              "      <th>0</th>\n",
              "      <td>1</td>\n",
              "      <td>1</td>\n",
              "      <td>24889392.0</td>\n",
              "      <td>CC(C)(C)c1cc(NC(=O)Nc2ccc(-c3cn4c(n3)sc3cc(OCC...</td>\n",
              "      <td>O14733</td>\n",
              "      <td>MAASSLEQKLSRLEAKLKQENREARRRIDLNLDISPQRPRPTLQLP...</td>\n",
              "      <td>1.000</td>\n",
              "    </tr>\n",
              "    <tr>\n",
              "      <th>1</th>\n",
              "      <td>2</td>\n",
              "      <td>2</td>\n",
              "      <td>153999.0</td>\n",
              "      <td>CN(C)C[C@@H]1CCn2cc(c3ccccc32)C2=C(C(=O)NC2=O)...</td>\n",
              "      <td>P33981</td>\n",
              "      <td>MESEDLSGRELTIDSIMNKVRDIKNKFKNEDLTDELSLNKISADTT...</td>\n",
              "      <td>1.000</td>\n",
              "    </tr>\n",
              "    <tr>\n",
              "      <th>2</th>\n",
              "      <td>5</td>\n",
              "      <td>6</td>\n",
              "      <td>11676971.0</td>\n",
              "      <td>CN(C)CC(=O)N1CCC(c2ccc(NC(=O)c3ncc(C#N)[nH]3)c...</td>\n",
              "      <td>Q02156</td>\n",
              "      <td>MVVFNGLLKIKICEAVSLKPTAWSLRHAVGPRPQTFLLDPYIALNV...</td>\n",
              "      <td>1.000</td>\n",
              "    </tr>\n",
              "    <tr>\n",
              "      <th>3</th>\n",
              "      <td>6</td>\n",
              "      <td>8</td>\n",
              "      <td>91898531.0</td>\n",
              "      <td>CC(C)=CCC/C(C)=C/C[C@@]12C[C@H](CC=C(C)C)C(C)(...</td>\n",
              "      <td>P42224</td>\n",
              "      <td>MSQWYELQQLDSKFLEQVHQLYDDSFPMEIRQYLAQWLEKQDWEHA...</td>\n",
              "      <td>0.467</td>\n",
              "    </tr>\n",
              "    <tr>\n",
              "      <th>4</th>\n",
              "      <td>7</td>\n",
              "      <td>9</td>\n",
              "      <td>11712649.0</td>\n",
              "      <td>O=C(O)c1ccc(Nc2ncc3c(n2)-c2ccc(Cl)cc2C(c2c(F)c...</td>\n",
              "      <td>Q9BRS2</td>\n",
              "      <td>MDYRRLLMSRVVPGQFDDADSSDSENRDLKTVKEKDDILFEDLQDN...</td>\n",
              "      <td>1.000</td>\n",
              "    </tr>\n",
              "  </tbody>\n",
              "</table>\n",
              "</div>\n",
              "      <button class=\"colab-df-convert\" onclick=\"convertToInteractive('df-c46894f5-d6d2-4e84-a0b1-3dcd8e347404')\"\n",
              "              title=\"Convert this dataframe to an interactive table.\"\n",
              "              style=\"display:none;\">\n",
              "        \n",
              "  <svg xmlns=\"http://www.w3.org/2000/svg\" height=\"24px\"viewBox=\"0 0 24 24\"\n",
              "       width=\"24px\">\n",
              "    <path d=\"M0 0h24v24H0V0z\" fill=\"none\"/>\n",
              "    <path d=\"M18.56 5.44l.94 2.06.94-2.06 2.06-.94-2.06-.94-.94-2.06-.94 2.06-2.06.94zm-11 1L8.5 8.5l.94-2.06 2.06-.94-2.06-.94L8.5 2.5l-.94 2.06-2.06.94zm10 10l.94 2.06.94-2.06 2.06-.94-2.06-.94-.94-2.06-.94 2.06-2.06.94z\"/><path d=\"M17.41 7.96l-1.37-1.37c-.4-.4-.92-.59-1.43-.59-.52 0-1.04.2-1.43.59L10.3 9.45l-7.72 7.72c-.78.78-.78 2.05 0 2.83L4 21.41c.39.39.9.59 1.41.59.51 0 1.02-.2 1.41-.59l7.78-7.78 2.81-2.81c.8-.78.8-2.07 0-2.86zM5.41 20L4 18.59l7.72-7.72 1.47 1.35L5.41 20z\"/>\n",
              "  </svg>\n",
              "      </button>\n",
              "      \n",
              "  <style>\n",
              "    .colab-df-container {\n",
              "      display:flex;\n",
              "      flex-wrap:wrap;\n",
              "      gap: 12px;\n",
              "    }\n",
              "\n",
              "    .colab-df-convert {\n",
              "      background-color: #E8F0FE;\n",
              "      border: none;\n",
              "      border-radius: 50%;\n",
              "      cursor: pointer;\n",
              "      display: none;\n",
              "      fill: #1967D2;\n",
              "      height: 32px;\n",
              "      padding: 0 0 0 0;\n",
              "      width: 32px;\n",
              "    }\n",
              "\n",
              "    .colab-df-convert:hover {\n",
              "      background-color: #E2EBFA;\n",
              "      box-shadow: 0px 1px 2px rgba(60, 64, 67, 0.3), 0px 1px 3px 1px rgba(60, 64, 67, 0.15);\n",
              "      fill: #174EA6;\n",
              "    }\n",
              "\n",
              "    [theme=dark] .colab-df-convert {\n",
              "      background-color: #3B4455;\n",
              "      fill: #D2E3FC;\n",
              "    }\n",
              "\n",
              "    [theme=dark] .colab-df-convert:hover {\n",
              "      background-color: #434B5C;\n",
              "      box-shadow: 0px 1px 3px 1px rgba(0, 0, 0, 0.15);\n",
              "      filter: drop-shadow(0px 1px 2px rgba(0, 0, 0, 0.3));\n",
              "      fill: #FFFFFF;\n",
              "    }\n",
              "  </style>\n",
              "\n",
              "      <script>\n",
              "        const buttonEl =\n",
              "          document.querySelector('#df-c46894f5-d6d2-4e84-a0b1-3dcd8e347404 button.colab-df-convert');\n",
              "        buttonEl.style.display =\n",
              "          google.colab.kernel.accessAllowed ? 'block' : 'none';\n",
              "\n",
              "        async function convertToInteractive(key) {\n",
              "          const element = document.querySelector('#df-c46894f5-d6d2-4e84-a0b1-3dcd8e347404');\n",
              "          const dataTable =\n",
              "            await google.colab.kernel.invokeFunction('convertToInteractive',\n",
              "                                                     [key], {});\n",
              "          if (!dataTable) return;\n",
              "\n",
              "          const docLinkHtml = 'Like what you see? Visit the ' +\n",
              "            '<a target=\"_blank\" href=https://colab.research.google.com/notebooks/data_table.ipynb>data table notebook</a>'\n",
              "            + ' to learn more about interactive tables.';\n",
              "          element.innerHTML = '';\n",
              "          dataTable['output_type'] = 'display_data';\n",
              "          await google.colab.output.renderOutput(dataTable, element);\n",
              "          const docLink = document.createElement('div');\n",
              "          docLink.innerHTML = docLinkHtml;\n",
              "          element.appendChild(docLink);\n",
              "        }\n",
              "      </script>\n",
              "    </div>\n",
              "  </div>\n",
              "  "
            ]
          },
          "metadata": {},
          "execution_count": 3
        }
      ]
    },
    {
      "cell_type": "code",
      "source": [
        "predicted_values = [0.991448, 0.96993380, 1.0242937, 0.813821196, 1.05402076, 1.02411544, 1.213393211, 0.79012513, 0.9069094, 0.66110265, 0.829928755, 0.8334299, 0.781749129, 0.98216164, 0.804818749, 84.01726531, 51.7033805847, 52.33119964599, 21.0104026, 41.21604156, 64.03531646, 32.68474197, 1.05809068, 41.57398986, 59.39731979, 27.200725555, 27.74546241, 28.640480041, 35.8593597, 33.9915428161, 43.8125343322, 32.9060668945, 36.8465766906, 40.945686340, 28.056562423, 38.88974761, 29.349746704, 34.2998046875, 61.54188156, 40.25760269, 37.8337707519, 44.637344360, 16.173692720, 66.544082641, 12.84413433, 17.901336669921, 41.126697540, 17.9013366699, 41.1266975, 9.09797954, 10.8670787811, 9.99686908, 31.766925811, 23.324718475, 30.625507354, 13.2086095, 10.36034488677, 29.963676, 3.08763265, 5.84551954269, 11.75781154, 11.639985084, 9.38558292, 1.297460436, 13.27499866, 16.2525005340]"
      ],
      "metadata": {
        "id": "ipWjauSyG7_R"
      },
      "execution_count": 4,
      "outputs": []
    },
    {
      "cell_type": "code",
      "source": [
        "original_values = test['Y'].to_numpy()"
      ],
      "metadata": {
        "id": "tr72Qc1JPzM7"
      },
      "execution_count": 5,
      "outputs": []
    },
    {
      "cell_type": "code",
      "source": [
        "type(original_values)"
      ],
      "metadata": {
        "colab": {
          "base_uri": "https://localhost:8080/"
        },
        "id": "5AeV7-E6QGz9",
        "outputId": "97a4ceb2-5aa2-4cfe-a4f5-d393b0f938cc"
      },
      "execution_count": 6,
      "outputs": [
        {
          "output_type": "execute_result",
          "data": {
            "text/plain": [
              "numpy.ndarray"
            ]
          },
          "metadata": {},
          "execution_count": 6
        }
      ]
    },
    {
      "cell_type": "code",
      "source": [
        "original_values, len(original_values)"
      ],
      "metadata": {
        "colab": {
          "base_uri": "https://localhost:8080/"
        },
        "id": "grnzjlQ3Qxup",
        "outputId": "c8f86bb6-835e-4f81-824c-b07b7fbfdb70"
      },
      "execution_count": 7,
      "outputs": [
        {
          "output_type": "execute_result",
          "data": {
            "text/plain": [
              "(array([  0.9999999 ,   0.9999999 ,   0.9999999 ,   0.4669999 ,\n",
              "          0.9999999 ,   0.9999999 ,   1.5999999 ,   0.9999999 ,\n",
              "          0.9999999 ,   0.9999999 ,   0.9899999 ,   0.5999999 ,\n",
              "          0.9999999 ,   0.9999999 ,   0.3199999 , 100.        ,\n",
              "         69.99999997,  54.99999996,  51.99999995,  50.49999995,\n",
              "         49.99999995,  49.99999995,   0.9999999 ,  47.99999995,\n",
              "         44.99999995,  42.99999994,  39.99999994,  39.89999994,\n",
              "         37.99999994,  37.49999994,  36.99999994,  36.59999994,\n",
              "         35.49999994,  34.99999994,  34.29999993,  34.29999993,\n",
              "         33.79999993,  32.49999993,  31.62279993,  31.62277693,\n",
              "         29.09999993,  28.89999993,  26.99999993,  26.59999993,\n",
              "         24.99999993,  24.99999993,  24.99999993,  24.99999993,\n",
              "         24.99999993,  23.29999992,  22.99999992,  19.99999992,\n",
              "         19.99999992,  19.99999992,  19.29999992,  17.99999992,\n",
              "         17.49999992,  17.39999992,  17.19999992,  17.09999992,\n",
              "         16.99999992,  15.99999992,  15.99999992,  15.13559992,\n",
              "         14.99999992,  14.99999992]), 66)"
            ]
          },
          "metadata": {},
          "execution_count": 7
        }
      ]
    },
    {
      "cell_type": "code",
      "source": [
        "import numpy as np\n",
        "predicted_values = np.array(predicted_values)"
      ],
      "metadata": {
        "id": "QuYgIxkNQKKs"
      },
      "execution_count": 8,
      "outputs": []
    },
    {
      "cell_type": "code",
      "source": [
        "type(predicted_values)"
      ],
      "metadata": {
        "colab": {
          "base_uri": "https://localhost:8080/"
        },
        "id": "W9J7yHLzQZqI",
        "outputId": "86021ba1-3b84-4c9d-ad76-b718dba6a58c"
      },
      "execution_count": 9,
      "outputs": [
        {
          "output_type": "execute_result",
          "data": {
            "text/plain": [
              "numpy.ndarray"
            ]
          },
          "metadata": {},
          "execution_count": 9
        }
      ]
    },
    {
      "cell_type": "code",
      "source": [
        "predicted_values, len(predicted_values)"
      ],
      "metadata": {
        "colab": {
          "base_uri": "https://localhost:8080/"
        },
        "id": "SG_UIpd4Q2nY",
        "outputId": "44815b92-c409-4eed-8aad-bed85eac227f"
      },
      "execution_count": 10,
      "outputs": [
        {
          "output_type": "execute_result",
          "data": {
            "text/plain": [
              "(array([ 0.991448  ,  0.9699338 ,  1.0242937 ,  0.8138212 ,  1.05402076,\n",
              "         1.02411544,  1.21339321,  0.79012513,  0.9069094 ,  0.66110265,\n",
              "         0.82992875,  0.8334299 ,  0.78174913,  0.98216164,  0.80481875,\n",
              "        84.01726531, 51.70338058, 52.33119965, 21.0104026 , 41.21604156,\n",
              "        64.03531646, 32.68474197,  1.05809068, 41.57398986, 59.39731979,\n",
              "        27.20072556, 27.74546241, 28.64048004, 35.8593597 , 33.99154282,\n",
              "        43.81253433, 32.90606689, 36.84657669, 40.94568634, 28.05656242,\n",
              "        38.88974761, 29.3497467 , 34.29980469, 61.54188156, 40.25760269,\n",
              "        37.83377075, 44.63734436, 16.17369272, 66.54408264, 12.84413433,\n",
              "        17.90133667, 41.12669754, 17.90133667, 41.1266975 ,  9.09797954,\n",
              "        10.86707878,  9.99686908, 31.76692581, 23.32471848, 30.62550735,\n",
              "        13.2086095 , 10.36034489, 29.963676  ,  3.08763265,  5.84551954,\n",
              "        11.75781154, 11.63998508,  9.38558292,  1.29746044, 13.27499866,\n",
              "        16.25250053]), 66)"
            ]
          },
          "metadata": {},
          "execution_count": 10
        }
      ]
    },
    {
      "cell_type": "code",
      "source": [
        "from sklearn.metrics import r2_score\n",
        "r2_sc = r2_score(original_values, predicted_values)"
      ],
      "metadata": {
        "id": "icHcHXSsQck0"
      },
      "execution_count": 11,
      "outputs": []
    },
    {
      "cell_type": "code",
      "source": [
        "r2_sc"
      ],
      "metadata": {
        "colab": {
          "base_uri": "https://localhost:8080/"
        },
        "id": "I8rmtUogQrTf",
        "outputId": "3717f662-f4fb-4056-849d-8df35a5a8f82"
      },
      "execution_count": 12,
      "outputs": [
        {
          "output_type": "execute_result",
          "data": {
            "text/plain": [
              "0.6519082130963603"
            ]
          },
          "metadata": {},
          "execution_count": 12
        }
      ]
    }
  ]
}